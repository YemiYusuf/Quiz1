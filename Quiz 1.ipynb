{
 "cells": [
  {
   "cell_type": "code",
   "execution_count": 1,
   "id": "b99a39fe",
   "metadata": {},
   "outputs": [],
   "source": [
    "import pandas as pd"
   ]
  },
  {
   "cell_type": "code",
   "execution_count": 2,
   "id": "b21d1a27",
   "metadata": {},
   "outputs": [],
   "source": [
    "df = pd.read_csv(\"/Users/kingyemii/Downloads/FoodBalanceSheets_E_Africa_NOFLAG.csv\", encoding = \"latin-1\")"
   ]
  },
  {
   "cell_type": "code",
   "execution_count": 3,
   "id": "8b2c4099",
   "metadata": {},
   "outputs": [
    {
     "data": {
      "text/html": [
       "<div>\n",
       "<style scoped>\n",
       "    .dataframe tbody tr th:only-of-type {\n",
       "        vertical-align: middle;\n",
       "    }\n",
       "\n",
       "    .dataframe tbody tr th {\n",
       "        vertical-align: top;\n",
       "    }\n",
       "\n",
       "    .dataframe thead th {\n",
       "        text-align: right;\n",
       "    }\n",
       "</style>\n",
       "<table border=\"1\" class=\"dataframe\">\n",
       "  <thead>\n",
       "    <tr style=\"text-align: right;\">\n",
       "      <th></th>\n",
       "      <th>Area Code</th>\n",
       "      <th>Area</th>\n",
       "      <th>Item Code</th>\n",
       "      <th>Item</th>\n",
       "      <th>Element Code</th>\n",
       "      <th>Element</th>\n",
       "      <th>Unit</th>\n",
       "      <th>Y2014</th>\n",
       "      <th>Y2015</th>\n",
       "      <th>Y2016</th>\n",
       "      <th>Y2017</th>\n",
       "      <th>Y2018</th>\n",
       "    </tr>\n",
       "  </thead>\n",
       "  <tbody>\n",
       "    <tr>\n",
       "      <th>0</th>\n",
       "      <td>4</td>\n",
       "      <td>Algeria</td>\n",
       "      <td>2501</td>\n",
       "      <td>Population</td>\n",
       "      <td>511</td>\n",
       "      <td>Total Population - Both sexes</td>\n",
       "      <td>1000 persons</td>\n",
       "      <td>38924.00</td>\n",
       "      <td>39728.00</td>\n",
       "      <td>40551.00</td>\n",
       "      <td>41389.00</td>\n",
       "      <td>42228.00</td>\n",
       "    </tr>\n",
       "    <tr>\n",
       "      <th>1</th>\n",
       "      <td>4</td>\n",
       "      <td>Algeria</td>\n",
       "      <td>2501</td>\n",
       "      <td>Population</td>\n",
       "      <td>5301</td>\n",
       "      <td>Domestic supply quantity</td>\n",
       "      <td>1000 tonnes</td>\n",
       "      <td>0.00</td>\n",
       "      <td>0.00</td>\n",
       "      <td>0.00</td>\n",
       "      <td>0.00</td>\n",
       "      <td>0.00</td>\n",
       "    </tr>\n",
       "    <tr>\n",
       "      <th>2</th>\n",
       "      <td>4</td>\n",
       "      <td>Algeria</td>\n",
       "      <td>2901</td>\n",
       "      <td>Grand Total</td>\n",
       "      <td>664</td>\n",
       "      <td>Food supply (kcal/capita/day)</td>\n",
       "      <td>kcal/capita/day</td>\n",
       "      <td>3377.00</td>\n",
       "      <td>3379.00</td>\n",
       "      <td>3372.00</td>\n",
       "      <td>3341.00</td>\n",
       "      <td>3322.00</td>\n",
       "    </tr>\n",
       "    <tr>\n",
       "      <th>3</th>\n",
       "      <td>4</td>\n",
       "      <td>Algeria</td>\n",
       "      <td>2901</td>\n",
       "      <td>Grand Total</td>\n",
       "      <td>674</td>\n",
       "      <td>Protein supply quantity (g/capita/day)</td>\n",
       "      <td>g/capita/day</td>\n",
       "      <td>94.90</td>\n",
       "      <td>94.35</td>\n",
       "      <td>94.72</td>\n",
       "      <td>92.82</td>\n",
       "      <td>91.83</td>\n",
       "    </tr>\n",
       "    <tr>\n",
       "      <th>4</th>\n",
       "      <td>4</td>\n",
       "      <td>Algeria</td>\n",
       "      <td>2901</td>\n",
       "      <td>Grand Total</td>\n",
       "      <td>684</td>\n",
       "      <td>Fat supply quantity (g/capita/day)</td>\n",
       "      <td>g/capita/day</td>\n",
       "      <td>80.06</td>\n",
       "      <td>79.36</td>\n",
       "      <td>77.40</td>\n",
       "      <td>80.19</td>\n",
       "      <td>77.28</td>\n",
       "    </tr>\n",
       "    <tr>\n",
       "      <th>...</th>\n",
       "      <td>...</td>\n",
       "      <td>...</td>\n",
       "      <td>...</td>\n",
       "      <td>...</td>\n",
       "      <td>...</td>\n",
       "      <td>...</td>\n",
       "      <td>...</td>\n",
       "      <td>...</td>\n",
       "      <td>...</td>\n",
       "      <td>...</td>\n",
       "      <td>...</td>\n",
       "      <td>...</td>\n",
       "    </tr>\n",
       "    <tr>\n",
       "      <th>60938</th>\n",
       "      <td>181</td>\n",
       "      <td>Zimbabwe</td>\n",
       "      <td>2899</td>\n",
       "      <td>Miscellaneous</td>\n",
       "      <td>5142</td>\n",
       "      <td>Food</td>\n",
       "      <td>1000 tonnes</td>\n",
       "      <td>42.00</td>\n",
       "      <td>46.00</td>\n",
       "      <td>33.00</td>\n",
       "      <td>19.00</td>\n",
       "      <td>16.00</td>\n",
       "    </tr>\n",
       "    <tr>\n",
       "      <th>60939</th>\n",
       "      <td>181</td>\n",
       "      <td>Zimbabwe</td>\n",
       "      <td>2899</td>\n",
       "      <td>Miscellaneous</td>\n",
       "      <td>645</td>\n",
       "      <td>Food supply quantity (kg/capita/yr)</td>\n",
       "      <td>kg</td>\n",
       "      <td>3.06</td>\n",
       "      <td>3.33</td>\n",
       "      <td>2.35</td>\n",
       "      <td>1.33</td>\n",
       "      <td>1.08</td>\n",
       "    </tr>\n",
       "    <tr>\n",
       "      <th>60940</th>\n",
       "      <td>181</td>\n",
       "      <td>Zimbabwe</td>\n",
       "      <td>2899</td>\n",
       "      <td>Miscellaneous</td>\n",
       "      <td>664</td>\n",
       "      <td>Food supply (kcal/capita/day)</td>\n",
       "      <td>kcal/capita/day</td>\n",
       "      <td>3.00</td>\n",
       "      <td>4.00</td>\n",
       "      <td>3.00</td>\n",
       "      <td>1.00</td>\n",
       "      <td>1.00</td>\n",
       "    </tr>\n",
       "    <tr>\n",
       "      <th>60941</th>\n",
       "      <td>181</td>\n",
       "      <td>Zimbabwe</td>\n",
       "      <td>2899</td>\n",
       "      <td>Miscellaneous</td>\n",
       "      <td>674</td>\n",
       "      <td>Protein supply quantity (g/capita/day)</td>\n",
       "      <td>g/capita/day</td>\n",
       "      <td>0.10</td>\n",
       "      <td>0.11</td>\n",
       "      <td>0.08</td>\n",
       "      <td>0.04</td>\n",
       "      <td>0.04</td>\n",
       "    </tr>\n",
       "    <tr>\n",
       "      <th>60942</th>\n",
       "      <td>181</td>\n",
       "      <td>Zimbabwe</td>\n",
       "      <td>2899</td>\n",
       "      <td>Miscellaneous</td>\n",
       "      <td>684</td>\n",
       "      <td>Fat supply quantity (g/capita/day)</td>\n",
       "      <td>g/capita/day</td>\n",
       "      <td>0.04</td>\n",
       "      <td>0.05</td>\n",
       "      <td>0.03</td>\n",
       "      <td>0.02</td>\n",
       "      <td>0.01</td>\n",
       "    </tr>\n",
       "  </tbody>\n",
       "</table>\n",
       "<p>60943 rows × 12 columns</p>\n",
       "</div>"
      ],
      "text/plain": [
       "       Area Code      Area  Item Code           Item  Element Code  \\\n",
       "0              4   Algeria       2501     Population           511   \n",
       "1              4   Algeria       2501     Population          5301   \n",
       "2              4   Algeria       2901    Grand Total           664   \n",
       "3              4   Algeria       2901    Grand Total           674   \n",
       "4              4   Algeria       2901    Grand Total           684   \n",
       "...          ...       ...        ...            ...           ...   \n",
       "60938        181  Zimbabwe       2899  Miscellaneous          5142   \n",
       "60939        181  Zimbabwe       2899  Miscellaneous           645   \n",
       "60940        181  Zimbabwe       2899  Miscellaneous           664   \n",
       "60941        181  Zimbabwe       2899  Miscellaneous           674   \n",
       "60942        181  Zimbabwe       2899  Miscellaneous           684   \n",
       "\n",
       "                                      Element             Unit     Y2014  \\\n",
       "0               Total Population - Both sexes     1000 persons  38924.00   \n",
       "1                    Domestic supply quantity      1000 tonnes      0.00   \n",
       "2               Food supply (kcal/capita/day)  kcal/capita/day   3377.00   \n",
       "3      Protein supply quantity (g/capita/day)     g/capita/day     94.90   \n",
       "4          Fat supply quantity (g/capita/day)     g/capita/day     80.06   \n",
       "...                                       ...              ...       ...   \n",
       "60938                                    Food      1000 tonnes     42.00   \n",
       "60939     Food supply quantity (kg/capita/yr)               kg      3.06   \n",
       "60940           Food supply (kcal/capita/day)  kcal/capita/day      3.00   \n",
       "60941  Protein supply quantity (g/capita/day)     g/capita/day      0.10   \n",
       "60942      Fat supply quantity (g/capita/day)     g/capita/day      0.04   \n",
       "\n",
       "          Y2015     Y2016     Y2017     Y2018  \n",
       "0      39728.00  40551.00  41389.00  42228.00  \n",
       "1          0.00      0.00      0.00      0.00  \n",
       "2       3379.00   3372.00   3341.00   3322.00  \n",
       "3         94.35     94.72     92.82     91.83  \n",
       "4         79.36     77.40     80.19     77.28  \n",
       "...         ...       ...       ...       ...  \n",
       "60938     46.00     33.00     19.00     16.00  \n",
       "60939      3.33      2.35      1.33      1.08  \n",
       "60940      4.00      3.00      1.00      1.00  \n",
       "60941      0.11      0.08      0.04      0.04  \n",
       "60942      0.05      0.03      0.02      0.01  \n",
       "\n",
       "[60943 rows x 12 columns]"
      ]
     },
     "execution_count": 3,
     "metadata": {},
     "output_type": "execute_result"
    }
   ],
   "source": [
    "df"
   ]
  },
  {
   "cell_type": "code",
   "execution_count": 4,
   "id": "656dfcf5",
   "metadata": {},
   "outputs": [],
   "source": [
    "grouped = df.groupby('Element')"
   ]
  },
  {
   "cell_type": "code",
   "execution_count": 6,
   "id": "97a1c423",
   "metadata": {},
   "outputs": [
    {
     "name": "stderr",
     "output_type": "stream",
     "text": [
      "/var/folders/tp/5f4hzjz5373bn631tnhrkr_c0000gn/T/ipykernel_54844/409042402.py:1: FutureWarning: The default value of numeric_only in DataFrameGroupBy.mean is deprecated. In a future version, numeric_only will default to False. Either specify numeric_only or select only columns which should be valid for the function.\n",
      "  result = grouped.mean()\n"
     ]
    }
   ],
   "source": [
    "result = grouped.mean()"
   ]
  },
  {
   "cell_type": "code",
   "execution_count": 18,
   "id": "dc65a802",
   "metadata": {
    "scrolled": true
   },
   "outputs": [
    {
     "name": "stdout",
     "output_type": "stream",
     "text": [
      "                                         Area Code    Item Code  Element Code  \\\n",
      "Element                                                                         \n",
      "Domestic supply quantity                133.898584  2681.292729        5301.0   \n",
      "Export Quantity                         136.250284  2689.201226        5911.0   \n",
      "Fat supply quantity (g/capita/day)      134.391798  2694.604818         684.0   \n",
      "Feed                                    133.640637  2682.719484        5521.0   \n",
      "Food                                    134.243068  2688.734062        5142.0   \n",
      "Food supply (kcal/capita/day)           134.434982  2694.666933         664.0   \n",
      "Food supply quantity (kg/capita/yr)     134.239755  2688.155148         645.0   \n",
      "Import Quantity                         133.912045  2684.562366        5611.0   \n",
      "Losses                                  136.561971  2700.250373        5123.0   \n",
      "Other uses (non-food)                   136.001155  2730.801963        5154.0   \n",
      "Processing                              135.293532  2661.898507        5131.0   \n",
      "Production                              135.725586  2692.618655        5511.0   \n",
      "Protein supply quantity (g/capita/day)  134.391798  2694.604818         674.0   \n",
      "Residuals                               133.892803  2668.332760        5170.0   \n",
      "Seed                                    135.875328  2671.828084        5527.0   \n",
      "Stock Variation                         135.058129  2677.109405        5072.0   \n",
      "Total Population - Both sexes           133.777778  2501.000000         511.0   \n",
      "Tourist consumption                      90.645045  2678.428829        5171.0   \n",
      "\n",
      "                                               Y2014         Y2015  \\\n",
      "Element                                                              \n",
      "Domestic supply quantity                  380.762080    385.413451   \n",
      "Export Quantity                            40.989246     42.552503   \n",
      "Fat supply quantity (g/capita/day)          2.059529      2.057849   \n",
      "Feed                                      178.394646    191.206644   \n",
      "Food                                      247.616930    251.450949   \n",
      "Food supply (kcal/capita/day)              91.824742     91.500101   \n",
      "Food supply quantity (kg/capita/yr)        10.216179     10.142884   \n",
      "Import Quantity                            55.731750     54.371505   \n",
      "Losses                                     76.268293     77.371329   \n",
      "Other uses (non-food)                      47.363496     39.744697   \n",
      "Processing                                142.387016    144.325313   \n",
      "Production                                504.252676    508.625755   \n",
      "Protein supply quantity (g/capita/day)      2.384941      2.380597   \n",
      "Residuals                                   6.548436      6.524430   \n",
      "Seed                                       28.770236     31.590013   \n",
      "Stock Variation                            13.888849      8.255141   \n",
      "Total Population - Both sexes           22924.111111  23512.911111   \n",
      "Tourist consumption                         0.749550      0.628829   \n",
      "\n",
      "                                               Y2016         Y2017  \\\n",
      "Element                                                              \n",
      "Domestic supply quantity                  389.493848    397.146843   \n",
      "Export Quantity                            41.587862     49.819344   \n",
      "Fat supply quantity (g/capita/day)          2.028669      2.058177   \n",
      "Feed                                      188.443333    184.423479   \n",
      "Food                                      253.976002    256.288331   \n",
      "Food supply (kcal/capita/day)              91.035664     91.577241   \n",
      "Food supply quantity (kg/capita/yr)        10.050324      9.985652   \n",
      "Import Quantity                            58.390949     59.760416   \n",
      "Losses                                     78.540070     79.947237   \n",
      "Other uses (non-food)                      42.572632     56.606529   \n",
      "Processing                                140.596693    146.564565   \n",
      "Production                                506.393213    530.179391   \n",
      "Protein supply quantity (g/capita/day)      2.366350      2.378002   \n",
      "Residuals                                   8.074620      7.687311   \n",
      "Seed                                       30.815810     32.810211   \n",
      "Stock Variation                             7.832692     12.837842   \n",
      "Total Population - Both sexes           24113.488889  24725.355556   \n",
      "Tourist consumption                         0.160360      0.163964   \n",
      "\n",
      "                                               Y2018  \n",
      "Element                                               \n",
      "Domestic supply quantity                  411.185712  \n",
      "Export Quantity                            49.806583  \n",
      "Fat supply quantity (g/capita/day)          2.057086  \n",
      "Feed                                      190.603820  \n",
      "Food                                      265.385972  \n",
      "Food supply (kcal/capita/day)              91.620246  \n",
      "Food supply quantity (kg/capita/yr)        10.058817  \n",
      "Import Quantity                            58.240059  \n",
      "Losses                                     81.624502  \n",
      "Other uses (non-food)                      55.166749  \n",
      "Processing                                153.983525  \n",
      "Production                                539.540533  \n",
      "Protein supply quantity (g/capita/day)      2.373357  \n",
      "Residuals                                   7.552860  \n",
      "Seed                                       33.328681  \n",
      "Stock Variation                             4.879751  \n",
      "Total Population - Both sexes           25346.777778  \n",
      "Tourist consumption                         0.162162  \n"
     ]
    }
   ],
   "source": [
    "print(result)"
   ]
  },
  {
   "cell_type": "code",
   "execution_count": 19,
   "id": "bfc39850",
   "metadata": {},
   "outputs": [],
   "source": [
    "# Select 'Y2017' and 'Area' columns\n",
    "selected_columns = df[['Y2017', 'Area']]"
   ]
  },
  {
   "cell_type": "code",
   "execution_count": 20,
   "id": "c3c35b60",
   "metadata": {},
   "outputs": [],
   "source": [
    "# Perform groupby operation on 'Area' and sum the 'Y2017' column\n",
    "grouped_df = selected_columns.groupby('Area')['Y2017'].sum().reset_index()"
   ]
  },
  {
   "cell_type": "code",
   "execution_count": 21,
   "id": "f51e58b3",
   "metadata": {},
   "outputs": [],
   "source": [
    "# Find the area with the highest sum in 'Y2017'\n",
    "area_with_highest_sum = grouped_df.loc[grouped_df['Y2017'].idxmax()]"
   ]
  },
  {
   "cell_type": "code",
   "execution_count": 22,
   "id": "e2ae302c",
   "metadata": {},
   "outputs": [
    {
     "name": "stdout",
     "output_type": "stream",
     "text": [
      "Area with the highest sum in 2017: Nigeria\n"
     ]
    }
   ],
   "source": [
    "# Print the area with the highest sum in 'Y2017'\n",
    "print(\"Area with the highest sum in 2017:\", area_with_highest_sum['Area'])"
   ]
  },
  {
   "cell_type": "code",
   "execution_count": 8,
   "id": "8617c991",
   "metadata": {},
   "outputs": [],
   "source": [
    "import numpy as np"
   ]
  },
  {
   "cell_type": "code",
   "execution_count": 9,
   "id": "7081bb52",
   "metadata": {},
   "outputs": [],
   "source": [
    "array  = ([[94, 89, 63],\n",
    "\n",
    "             [93, 92, 48],\n",
    "\n",
    "             [92, 94, 56]])"
   ]
  },
  {
   "cell_type": "code",
   "execution_count": 13,
   "id": "802ce8f9",
   "metadata": {},
   "outputs": [],
   "source": [
    "selected_columns = df[['Y2017', 'Area']]"
   ]
  },
  {
   "cell_type": "code",
   "execution_count": 14,
   "id": "67892390",
   "metadata": {},
   "outputs": [],
   "source": [
    "grouped_df = selected_columns.groupby('Area')['Y2017'].sum().reset_index()"
   ]
  },
  {
   "cell_type": "code",
   "execution_count": 16,
   "id": "77284ec8",
   "metadata": {},
   "outputs": [],
   "source": [
    "seventh_lowest_sum = grouped_df.nsmallest(7, 'Y2017').iloc[-1]"
   ]
  },
  {
   "cell_type": "code",
   "execution_count": 17,
   "id": "75076ff0",
   "metadata": {},
   "outputs": [
    {
     "name": "stdout",
     "output_type": "stream",
     "text": [
      "Area     Guinea-Bissau\n",
      "Y2017         19102.77\n",
      "Name: 21, dtype: object\n"
     ]
    }
   ],
   "source": [
    "print(seventh_lowest_sum)"
   ]
  },
  {
   "cell_type": "code",
   "execution_count": 23,
   "id": "b2271acc",
   "metadata": {},
   "outputs": [
    {
     "name": "stdout",
     "output_type": "stream",
     "text": [
      "Total number of missing values in 2014: 1589\n",
      "Percentage of missing data in 2014: 2.607%\n"
     ]
    }
   ],
   "source": [
    "# Calculate total number of missing values in 'Y2014' column\n",
    "total_missing_values = df['Y2014'].isnull().sum()\n",
    "\n",
    "# Calculate total number of rows in the DataFrame\n",
    "total_rows = len(df)\n",
    "\n",
    "# Calculate percentage of missing values in 'Y2014' column\n",
    "percentage_missing_values = (total_missing_values / total_rows) * 100\n",
    "\n",
    "# Print total number and percentage of missing data in 2014 to 3 decimal places\n",
    "print(\"Total number of missing values in 2014:\", total_missing_values)\n",
    "print(\"Percentage of missing data in 2014: {:.3f}%\".format(percentage_missing_values))\n"
   ]
  },
  {
   "cell_type": "code",
   "execution_count": 24,
   "id": "9b7f7242",
   "metadata": {},
   "outputs": [
    {
     "name": "stdout",
     "output_type": "stream",
     "text": [
      "Total sum of Wine produced in 2015: 4251.8099999999995\n",
      "Total sum of Wine produced in 2018: 4039.3199999999997\n"
     ]
    }
   ],
   "source": [
    "# Calculate total sum of Wine produced in 2015\n",
    "wine_2015_sum = df['Y2015'][df['Item'] == 'Wine'].sum()\n",
    "\n",
    "# Calculate total sum of Wine produced in 2018\n",
    "wine_2018_sum = df['Y2018'][df['Item'] == 'Wine'].sum()\n",
    "\n",
    "# Print the results\n",
    "print(\"Total sum of Wine produced in 2015:\", wine_2015_sum)\n",
    "print(\"Total sum of Wine produced in 2018:\", wine_2018_sum)\n"
   ]
  },
  {
   "cell_type": "code",
   "execution_count": 25,
   "id": "0f5f3604",
   "metadata": {},
   "outputs": [
    {
     "name": "stdout",
     "output_type": "stream",
     "text": [
      "Total Protein Supply Quantity in Madagascar in 2015: 126674.9\n"
     ]
    }
   ],
   "source": [
    "# Assuming 'Area' is the column containing country names and 'Y2015' is the column containing protein supply quantity in 2015\n",
    "# You might need to adjust column names based on your actual dataset\n",
    "\n",
    "# Grouping by 'Area' and summing the 'Y2015' column\n",
    "protein_supply_2015 = df.groupby('Area')['Y2015'].sum()\n",
    "\n",
    "# Accessing the protein supply quantity for Madagascar\n",
    "madagascar_protein_supply_2015 = protein_supply_2015['Madagascar']\n",
    "\n",
    "print(\"Total Protein Supply Quantity in Madagascar in 2015:\", madagascar_protein_supply_2015)\n"
   ]
  },
  {
   "cell_type": "code",
   "execution_count": 26,
   "id": "2e6f42f4",
   "metadata": {},
   "outputs": [
    {
     "ename": "TypeError",
     "evalue": "'tuple' object does not support item assignment",
     "output_type": "error",
     "traceback": [
      "\u001b[0;31m---------------------------------------------------------------------------\u001b[0m",
      "\u001b[0;31mTypeError\u001b[0m                                 Traceback (most recent call last)",
      "Cell \u001b[0;32mIn[26], line 2\u001b[0m\n\u001b[1;32m      1\u001b[0m my_tuppy \u001b[38;5;241m=\u001b[39m (\u001b[38;5;241m1\u001b[39m, \u001b[38;5;241m2\u001b[39m, \u001b[38;5;241m5\u001b[39m, \u001b[38;5;241m8\u001b[39m)  \n\u001b[0;32m----> 2\u001b[0m my_tuppy[\u001b[38;5;241m2\u001b[39m] \u001b[38;5;241m=\u001b[39m \u001b[38;5;241m6\u001b[39m\n",
      "\u001b[0;31mTypeError\u001b[0m: 'tuple' object does not support item assignment"
     ]
    }
   ],
   "source": [
    "my_tuppy = (1, 2, 5, 8)  \n",
    "my_tuppy[2] = 6  "
   ]
  },
  {
   "cell_type": "code",
   "execution_count": 27,
   "id": "1c41f812",
   "metadata": {},
   "outputs": [
    {
     "name": "stdout",
     "output_type": "stream",
     "text": [
      "   Age Nationality  Overall\n",
      "0   35    Portugal       94\n",
      "1   33   Argentina       93\n",
      "2   30      Brazil       92\n"
     ]
    }
   ],
   "source": [
    "lst = [[35, 'Portugal', 94], [33, 'Argentina', 93], [30 , 'Brazil', 92]]\n",
    "col = ['Age', 'Nationality', 'Overall']\n",
    "\n",
    "# Create a DataFrame\n",
    "df = pd.DataFrame(lst, columns=col)\n",
    "\n",
    "# Print the DataFrame\n",
    "print(df)\n"
   ]
  },
  {
   "cell_type": "code",
   "execution_count": 28,
   "id": "8c8523dd",
   "metadata": {},
   "outputs": [
    {
     "name": "stdout",
     "output_type": "stream",
     "text": [
      "8\n"
     ]
    }
   ],
   "source": [
    "# Given list of tuples\n",
    "y = [(2, 4), (7, 8), (1, 5, 9)]\n",
    "\n",
    "# Accessing element 8 from the second tuple (7, 8)\n",
    "x = y[1][1]\n",
    "\n",
    "# Printing the variable x\n",
    "print(x)\n"
   ]
  },
  {
   "cell_type": "code",
   "execution_count": 29,
   "id": "34bfc324",
   "metadata": {},
   "outputs": [
    {
     "name": "stdout",
     "output_type": "stream",
     "text": [
      "5\n"
     ]
    }
   ],
   "source": [
    "import pandas as pd\n",
    "\n",
    "# Sample DataFrame\n",
    "data = {'A': [1, 2, 3],\n",
    "        'B': [4, 5, 6],\n",
    "        'C': [7, 8, 9]}\n",
    "\n",
    "df = pd.DataFrame(data, index=['row1', 'row2', 'row3'])\n",
    "\n",
    "# Accessing element in row 'row2' and column 'B'\n",
    "element = df.loc['row2', 'B']\n",
    "print(element)  # Output: 5\n"
   ]
  },
  {
   "cell_type": "code",
   "execution_count": 30,
   "id": "e9cf0c1e",
   "metadata": {},
   "outputs": [
    {
     "name": "stdout",
     "output_type": "stream",
     "text": [
      "Number of rows: 3\n",
      "Number of columns: 3\n"
     ]
    }
   ],
   "source": [
    "import pandas as pd\n",
    "\n",
    "# Assuming df is your DataFrame\n",
    "# For example, df = pd.DataFrame({'A': [1, 2, 3], 'B': [4, 5, 6]})\n",
    "\n",
    "# Get the number of rows and columns\n",
    "num_rows, num_columns = df.shape\n",
    "\n",
    "print(\"Number of rows:\", num_rows)\n",
    "print(\"Number of columns:\", num_columns)\n"
   ]
  },
  {
   "cell_type": "code",
   "execution_count": 34,
   "id": "a5218203",
   "metadata": {},
   "outputs": [
    {
     "name": "stdout",
     "output_type": "stream",
     "text": [
      "Index(['A', 'B', 'C'], dtype='object')\n"
     ]
    }
   ],
   "source": [
    "print(df.columns)\n"
   ]
  },
  {
   "cell_type": "code",
   "execution_count": null,
   "id": "bab07835",
   "metadata": {},
   "outputs": [],
   "source": []
  }
 ],
 "metadata": {
  "kernelspec": {
   "display_name": "Python 3 (ipykernel)",
   "language": "python",
   "name": "python3"
  },
  "language_info": {
   "codemirror_mode": {
    "name": "ipython",
    "version": 3
   },
   "file_extension": ".py",
   "mimetype": "text/x-python",
   "name": "python",
   "nbconvert_exporter": "python",
   "pygments_lexer": "ipython3",
   "version": "3.11.4"
  }
 },
 "nbformat": 4,
 "nbformat_minor": 5
}
